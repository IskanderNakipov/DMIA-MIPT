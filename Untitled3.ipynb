{
 "cells": [
  {
   "cell_type": "markdown",
   "metadata": {},
   "source": [
    "# Python"
   ]
  },
  {
   "cell_type": "code",
   "execution_count": 6,
   "metadata": {
    "collapsed": true
   },
   "outputs": [
    {
     "name": "stdout",
     "output_type": "stream",
     "text": [
      "1\n",
      "2\n",
      "Fizz\n",
      "4\n",
      "Buzz\n",
      "Fizz\n",
      "7\n",
      "8\n",
      "Fizz\n",
      "Buzz\n",
      "11\n",
      "Fizz\n",
      "13\n",
      "14\n",
      "FizzBuzz\n",
      "16\n",
      "17\n",
      "Fizz\n",
      "19\n",
      "Buzz\n",
      "Fizz\n",
      "22\n",
      "23\n",
      "Fizz\n",
      "Buzz\n",
      "26\n",
      "Fizz\n",
      "28\n",
      "29\n",
      "FizzBuzz\n",
      "31\n",
      "32\n",
      "Fizz\n",
      "34\n",
      "Buzz\n",
      "Fizz\n",
      "37\n",
      "38\n",
      "Fizz\n",
      "Buzz\n",
      "41\n",
      "Fizz\n",
      "43\n",
      "44\n",
      "FizzBuzz\n",
      "46\n",
      "47\n",
      "Fizz\n",
      "49\n",
      "Buzz\n",
      "Fizz\n",
      "52\n",
      "53\n",
      "Fizz\n",
      "Buzz\n",
      "56\n",
      "Fizz\n",
      "58\n",
      "59\n",
      "FizzBuzz\n",
      "61\n",
      "62\n",
      "Fizz\n",
      "64\n",
      "Buzz\n",
      "Fizz\n",
      "67\n",
      "68\n",
      "Fizz\n",
      "Buzz\n",
      "71\n",
      "Fizz\n",
      "73\n",
      "74\n",
      "FizzBuzz\n",
      "76\n",
      "77\n",
      "Fizz\n",
      "79\n",
      "Buzz\n",
      "Fizz\n",
      "82\n",
      "83\n",
      "Fizz\n",
      "Buzz\n",
      "86\n",
      "Fizz\n",
      "88\n",
      "89\n",
      "FizzBuzz\n",
      "91\n",
      "92\n",
      "Fizz\n",
      "94\n",
      "Buzz\n",
      "Fizz\n",
      "97\n",
      "98\n",
      "Fizz\n",
      "Buzz\n"
     ]
    }
   ],
   "source": [
    "for i in xrange(1,101):\n",
    "    s = ''\n",
    "    if i % 3 == 0:\n",
    "        s += 'Fizz'\n",
    "    if i % 5 == 0:\n",
    "        s += 'Buzz'\n",
    "    if s == '':\n",
    "        s = i\n",
    "    print s"
   ]
  },
  {
   "cell_type": "code",
   "execution_count": 1,
   "metadata": {
    "collapsed": false
   },
   "outputs": [
    {
     "name": "stdout",
     "output_type": "stream",
     "text": [
      "354224848179261915075\n"
     ]
    }
   ],
   "source": [
    "a = 0\n",
    "b = 1\n",
    "for i in xrange(99):\n",
    "    b += a\n",
    "    a = b - a\n",
    "print b"
   ]
  },
  {
   "cell_type": "markdown",
   "metadata": {},
   "source": [
    "# Numpy"
   ]
  },
  {
   "cell_type": "code",
   "execution_count": 19,
   "metadata": {
    "collapsed": false
   },
   "outputs": [
    {
     "data": {
      "text/plain": [
       "array([ 2.  ,  2.25,  2.5 ,  2.75,  3.  ])"
      ]
     },
     "execution_count": 19,
     "metadata": {},
     "output_type": "execute_result"
    }
   ],
   "source": [
    "import numpy as np\n",
    "def linspace1(a,b,c):\n",
    "    res = np.zeros(c)\n",
    "    step = float(b-a)/(c-1)\n",
    "    for i in xrange(c):\n",
    "        res[i] = a\n",
    "        a += step\n",
    "    return res\n",
    "\n",
    "linspace1(2,3,5)"
   ]
  },
  {
   "cell_type": "code",
   "execution_count": 20,
   "metadata": {
    "collapsed": false,
    "scrolled": true
   },
   "outputs": [
    {
     "name": "stdout",
     "output_type": "stream",
     "text": [
      "[2.0, 2.25, 2.5, 2.75, 3.0]\n"
     ]
    }
   ],
   "source": [
    "def linspace2(a,b,c):\n",
    "    step = (b-a)/float(c-1)\n",
    "    res = [a + i*step for i in xrange(c)]\n",
    "    return res\n",
    "print linspace2(2,3,5)"
   ]
  },
  {
   "cell_type": "code",
   "execution_count": 27,
   "metadata": {
    "collapsed": false
   },
   "outputs": [
    {
     "name": "stdout",
     "output_type": "stream",
     "text": [
      "0.0942762422583\n",
      "0.672788580367\n",
      "0.731551674027\n"
     ]
    }
   ],
   "source": [
    "import timeit\n",
    "start = timeit.default_timer()\n",
    "a = np.linspace(1,100,2000000)\n",
    "print timeit.default_timer() - start\n",
    "\n",
    "start = timeit.default_timer()\n",
    "a = linspace1(1,100,2000000)\n",
    "print timeit.default_timer() - start\n",
    "\n",
    "start = timeit.default_timer()\n",
    "a = linspace2(1,100,2000000)\n",
    "print timeit.default_timer() - start"
   ]
  },
  {
   "cell_type": "markdown",
   "metadata": {},
   "source": [
    "# Matplotlib"
   ]
  },
  {
   "cell_type": "code",
   "execution_count": 50,
   "metadata": {
    "collapsed": false,
    "scrolled": true
   },
   "outputs": [
    {
     "data": {
      "image/png": "[encoded data removed]",
      "text/plain": [
       "<matplotlib.figure.Figure at 0x8149fd0>"
      ]
     },
     "metadata": {},
     "output_type": "display_data"
    }
   ],
   "source": [
    "from matplotlib import pyplot as plt\n",
    "grid = np.linspace(0,1,21)\n",
    "plt.subplot(221)\n",
    "plt.plot(grid,grid**2,label = '$x^2$')\n",
    "plt.plot(grid,np.sin(np.pi*grid),label = '$sin(\\pi*x)$')\n",
    "plt.plot(grid,np.exp(grid),label = '$e^x$')\n",
    "plt.xlabel('$x$')\n",
    "plt.ylabel('$f(x)$')\n",
    "plt.legend(loc = 0,fontsize = 'x-small')\n",
    "\n",
    "plt.subplot(222)\n",
    "plt.plot(grid,1-np.cos(grid),label = '$cos(x)$')\n",
    "plt.plot(grid,np.cos(4*np.pi*grid)*np.exp(-4*grid),label = '$cos(4*\\pi*x)*e^{-4*x}$')\n",
    "plt.legend(loc = 0,fontsize = 'small')\n",
    "plt.savefig('DMIA-Homework')\n",
    "\n",
    "plt.show()\n",
    "\n"
   ]
  },
  {
   "cell_type": "markdown",
   "metadata": {},
   "source": [
    "# Scipy"
   ]
  },
  {
   "cell_type": "code",
   "execution_count": 16,
   "metadata": {
    "collapsed": false
   },
   "outputs": [
    {
     "name": "stdout",
     "output_type": "stream",
     "text": [
      "[-0.11685123+0.j  0.90483105+0.j -1.94923884+0.j  0.85718323+0.j\n",
      "  0.30281379+0.j]\n",
      "[-0.11685123+0.j  0.90483105+0.j -1.94923884+0.j  0.85718323+0.j\n",
      "  0.30281379+0.j]\n"
     ]
    }
   ],
   "source": [
    "import numpy as np\n",
    "import scipy.linalg as linalg\n",
    "A = np.random.randn(5,5) #создаем матрицу\n",
    "a,b = linalg.eig(A) #находим собств. значения\n",
    "print np.dot(A,b[:,0])      #проверяем\n",
    "print a[0]*np.array(b[:,0]) #\n"
   ]
  }
 ],
 "metadata": {
  "anaconda-cloud": {},
  "kernelspec": {
   "display_name": "Python [conda root]",
   "language": "python",
   "name": "conda-root-py"
  },
  "language_info": {
   "codemirror_mode": {
    "name": "ipython",
    "version": 2
   },
   "file_extension": ".py",
   "mimetype": "text/x-python",
   "name": "python",
   "nbconvert_exporter": "python",
   "pygments_lexer": "ipython2",
   "version": "2.7.12"
  }
 },
 "nbformat": 4,
 "nbformat_minor": 1
}
